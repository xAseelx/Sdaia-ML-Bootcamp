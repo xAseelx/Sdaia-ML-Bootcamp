{
  "nbformat": 4,
  "nbformat_minor": 0,
  "metadata": {
    "colab": {
      "provenance": []
    },
    "kernelspec": {
      "name": "python3",
      "display_name": "Python 3"
    },
    "language_info": {
      "name": "python"
    }
  },
  "cells": [
    {
      "cell_type": "markdown",
      "source": [
        "#Case Study: House Price\n",
        "\n",
        "The dataset represents a synthetic collection of house-related features and their corresponding prices. It contains 1000 samples, with each sample having the following features:\n",
        "\n",
        "- Size: The size of the house\n",
        "- Bedrooms: The number of bedrooms in the house\n",
        "- Bathrooms: The number of bathrooms in the house\n",
        "- Location: A feature representing the location of the house\n",
        "- YearBuilt: The year the house was built\n",
        "- RoofType: The type of roof on the house\n",
        "- Price: The price of the house"
      ],
      "metadata": {
        "id": "G5m3nvD2mt2J"
      }
    },
    {
      "cell_type": "code",
      "source": [
        "from google.colab import drive\n",
        "drive.mount('/content/drive')"
      ],
      "metadata": {
        "id": "ET3t4ldzGQnI",
        "outputId": "0ebcd53e-2b13-4bba-a2ba-40933c5700d2",
        "colab": {
          "base_uri": "https://localhost:8080/"
        }
      },
      "execution_count": 31,
      "outputs": [
        {
          "output_type": "stream",
          "name": "stdout",
          "text": [
            "Drive already mounted at /content/drive; to attempt to forcibly remount, call drive.mount(\"/content/drive\", force_remount=True).\n"
          ]
        }
      ]
    },
    {
      "cell_type": "markdown",
      "source": [
        "## Load and Explore the Dataset"
      ],
      "metadata": {
        "id": "VXzc7u7CnLYL"
      }
    },
    {
      "cell_type": "code",
      "source": [
        "import pandas as pd\n",
        "df = pd.read_csv('/content/house_prices_dataset.csv')\n",
        "df"
      ],
      "metadata": {
        "id": "UbJKu2TunPIa",
        "outputId": "b68e87f5-d7ac-4df3-d4b9-b8c101e7ec6f",
        "colab": {
          "base_uri": "https://localhost:8080/",
          "height": 424
        }
      },
      "execution_count": 32,
      "outputs": [
        {
          "output_type": "execute_result",
          "data": {
            "text/plain": [
              "         Size  Bedrooms  Bathrooms  Location  YearBuilt  RoofType       Price\n",
              "0   -0.325611  0.257199   0.007880 -0.164335  -0.240665  0.212093  -16.984913\n",
              "1   -0.202193  1.277665   0.547097 -0.217681  -0.591571  1.098777   24.031693\n",
              "2   -2.153731  0.975713   0.685858  0.446982   0.000756 -0.638586   57.305959\n",
              "3   -0.939880 -1.304470   0.366598 -0.513867   0.669673 -1.059214  -81.049670\n",
              "4   -0.570351  1.223083   0.352505 -1.820603  -0.258854  0.270057 -127.396000\n",
              "..        ...       ...        ...       ...        ...       ...         ...\n",
              "995       NaN  0.689164  -0.273729  0.149598  -0.683634  0.097827   13.634300\n",
              "996 -0.564079 -1.021233   0.243801 -1.280304   0.708356  0.872457 -138.161669\n",
              "997 -0.981166 -1.725807   1.194109 -0.464404  -0.677565  0.462061  -94.896020\n",
              "998       NaN  1.158596   0.963376  0.822060  -0.820682  1.896793  133.087712\n",
              "999 -0.562288  0.241962  -1.724918 -1.012831  -1.913280  0.314247 -188.649246\n",
              "\n",
              "[1000 rows x 7 columns]"
            ],
            "text/html": [
              "\n",
              "  <div id=\"df-500aba93-e46a-416b-a8ff-2efe8810e0bf\" class=\"colab-df-container\">\n",
              "    <div>\n",
              "<style scoped>\n",
              "    .dataframe tbody tr th:only-of-type {\n",
              "        vertical-align: middle;\n",
              "    }\n",
              "\n",
              "    .dataframe tbody tr th {\n",
              "        vertical-align: top;\n",
              "    }\n",
              "\n",
              "    .dataframe thead th {\n",
              "        text-align: right;\n",
              "    }\n",
              "</style>\n",
              "<table border=\"1\" class=\"dataframe\">\n",
              "  <thead>\n",
              "    <tr style=\"text-align: right;\">\n",
              "      <th></th>\n",
              "      <th>Size</th>\n",
              "      <th>Bedrooms</th>\n",
              "      <th>Bathrooms</th>\n",
              "      <th>Location</th>\n",
              "      <th>YearBuilt</th>\n",
              "      <th>RoofType</th>\n",
              "      <th>Price</th>\n",
              "    </tr>\n",
              "  </thead>\n",
              "  <tbody>\n",
              "    <tr>\n",
              "      <th>0</th>\n",
              "      <td>-0.325611</td>\n",
              "      <td>0.257199</td>\n",
              "      <td>0.007880</td>\n",
              "      <td>-0.164335</td>\n",
              "      <td>-0.240665</td>\n",
              "      <td>0.212093</td>\n",
              "      <td>-16.984913</td>\n",
              "    </tr>\n",
              "    <tr>\n",
              "      <th>1</th>\n",
              "      <td>-0.202193</td>\n",
              "      <td>1.277665</td>\n",
              "      <td>0.547097</td>\n",
              "      <td>-0.217681</td>\n",
              "      <td>-0.591571</td>\n",
              "      <td>1.098777</td>\n",
              "      <td>24.031693</td>\n",
              "    </tr>\n",
              "    <tr>\n",
              "      <th>2</th>\n",
              "      <td>-2.153731</td>\n",
              "      <td>0.975713</td>\n",
              "      <td>0.685858</td>\n",
              "      <td>0.446982</td>\n",
              "      <td>0.000756</td>\n",
              "      <td>-0.638586</td>\n",
              "      <td>57.305959</td>\n",
              "    </tr>\n",
              "    <tr>\n",
              "      <th>3</th>\n",
              "      <td>-0.939880</td>\n",
              "      <td>-1.304470</td>\n",
              "      <td>0.366598</td>\n",
              "      <td>-0.513867</td>\n",
              "      <td>0.669673</td>\n",
              "      <td>-1.059214</td>\n",
              "      <td>-81.049670</td>\n",
              "    </tr>\n",
              "    <tr>\n",
              "      <th>4</th>\n",
              "      <td>-0.570351</td>\n",
              "      <td>1.223083</td>\n",
              "      <td>0.352505</td>\n",
              "      <td>-1.820603</td>\n",
              "      <td>-0.258854</td>\n",
              "      <td>0.270057</td>\n",
              "      <td>-127.396000</td>\n",
              "    </tr>\n",
              "    <tr>\n",
              "      <th>...</th>\n",
              "      <td>...</td>\n",
              "      <td>...</td>\n",
              "      <td>...</td>\n",
              "      <td>...</td>\n",
              "      <td>...</td>\n",
              "      <td>...</td>\n",
              "      <td>...</td>\n",
              "    </tr>\n",
              "    <tr>\n",
              "      <th>995</th>\n",
              "      <td>NaN</td>\n",
              "      <td>0.689164</td>\n",
              "      <td>-0.273729</td>\n",
              "      <td>0.149598</td>\n",
              "      <td>-0.683634</td>\n",
              "      <td>0.097827</td>\n",
              "      <td>13.634300</td>\n",
              "    </tr>\n",
              "    <tr>\n",
              "      <th>996</th>\n",
              "      <td>-0.564079</td>\n",
              "      <td>-1.021233</td>\n",
              "      <td>0.243801</td>\n",
              "      <td>-1.280304</td>\n",
              "      <td>0.708356</td>\n",
              "      <td>0.872457</td>\n",
              "      <td>-138.161669</td>\n",
              "    </tr>\n",
              "    <tr>\n",
              "      <th>997</th>\n",
              "      <td>-0.981166</td>\n",
              "      <td>-1.725807</td>\n",
              "      <td>1.194109</td>\n",
              "      <td>-0.464404</td>\n",
              "      <td>-0.677565</td>\n",
              "      <td>0.462061</td>\n",
              "      <td>-94.896020</td>\n",
              "    </tr>\n",
              "    <tr>\n",
              "      <th>998</th>\n",
              "      <td>NaN</td>\n",
              "      <td>1.158596</td>\n",
              "      <td>0.963376</td>\n",
              "      <td>0.822060</td>\n",
              "      <td>-0.820682</td>\n",
              "      <td>1.896793</td>\n",
              "      <td>133.087712</td>\n",
              "    </tr>\n",
              "    <tr>\n",
              "      <th>999</th>\n",
              "      <td>-0.562288</td>\n",
              "      <td>0.241962</td>\n",
              "      <td>-1.724918</td>\n",
              "      <td>-1.012831</td>\n",
              "      <td>-1.913280</td>\n",
              "      <td>0.314247</td>\n",
              "      <td>-188.649246</td>\n",
              "    </tr>\n",
              "  </tbody>\n",
              "</table>\n",
              "<p>1000 rows × 7 columns</p>\n",
              "</div>\n",
              "    <div class=\"colab-df-buttons\">\n",
              "\n",
              "  <div class=\"colab-df-container\">\n",
              "    <button class=\"colab-df-convert\" onclick=\"convertToInteractive('df-500aba93-e46a-416b-a8ff-2efe8810e0bf')\"\n",
              "            title=\"Convert this dataframe to an interactive table.\"\n",
              "            style=\"display:none;\">\n",
              "\n",
              "  <svg xmlns=\"http://www.w3.org/2000/svg\" height=\"24px\" viewBox=\"0 -960 960 960\">\n",
              "    <path d=\"M120-120v-720h720v720H120Zm60-500h600v-160H180v160Zm220 220h160v-160H400v160Zm0 220h160v-160H400v160ZM180-400h160v-160H180v160Zm440 0h160v-160H620v160ZM180-180h160v-160H180v160Zm440 0h160v-160H620v160Z\"/>\n",
              "  </svg>\n",
              "    </button>\n",
              "\n",
              "  <style>\n",
              "    .colab-df-container {\n",
              "      display:flex;\n",
              "      gap: 12px;\n",
              "    }\n",
              "\n",
              "    .colab-df-convert {\n",
              "      background-color: #E8F0FE;\n",
              "      border: none;\n",
              "      border-radius: 50%;\n",
              "      cursor: pointer;\n",
              "      display: none;\n",
              "      fill: #1967D2;\n",
              "      height: 32px;\n",
              "      padding: 0 0 0 0;\n",
              "      width: 32px;\n",
              "    }\n",
              "\n",
              "    .colab-df-convert:hover {\n",
              "      background-color: #E2EBFA;\n",
              "      box-shadow: 0px 1px 2px rgba(60, 64, 67, 0.3), 0px 1px 3px 1px rgba(60, 64, 67, 0.15);\n",
              "      fill: #174EA6;\n",
              "    }\n",
              "\n",
              "    .colab-df-buttons div {\n",
              "      margin-bottom: 4px;\n",
              "    }\n",
              "\n",
              "    [theme=dark] .colab-df-convert {\n",
              "      background-color: #3B4455;\n",
              "      fill: #D2E3FC;\n",
              "    }\n",
              "\n",
              "    [theme=dark] .colab-df-convert:hover {\n",
              "      background-color: #434B5C;\n",
              "      box-shadow: 0px 1px 3px 1px rgba(0, 0, 0, 0.15);\n",
              "      filter: drop-shadow(0px 1px 2px rgba(0, 0, 0, 0.3));\n",
              "      fill: #FFFFFF;\n",
              "    }\n",
              "  </style>\n",
              "\n",
              "    <script>\n",
              "      const buttonEl =\n",
              "        document.querySelector('#df-500aba93-e46a-416b-a8ff-2efe8810e0bf button.colab-df-convert');\n",
              "      buttonEl.style.display =\n",
              "        google.colab.kernel.accessAllowed ? 'block' : 'none';\n",
              "\n",
              "      async function convertToInteractive(key) {\n",
              "        const element = document.querySelector('#df-500aba93-e46a-416b-a8ff-2efe8810e0bf');\n",
              "        const dataTable =\n",
              "          await google.colab.kernel.invokeFunction('convertToInteractive',\n",
              "                                                    [key], {});\n",
              "        if (!dataTable) return;\n",
              "\n",
              "        const docLinkHtml = 'Like what you see? Visit the ' +\n",
              "          '<a target=\"_blank\" href=https://colab.research.google.com/notebooks/data_table.ipynb>data table notebook</a>'\n",
              "          + ' to learn more about interactive tables.';\n",
              "        element.innerHTML = '';\n",
              "        dataTable['output_type'] = 'display_data';\n",
              "        await google.colab.output.renderOutput(dataTable, element);\n",
              "        const docLink = document.createElement('div');\n",
              "        docLink.innerHTML = docLinkHtml;\n",
              "        element.appendChild(docLink);\n",
              "      }\n",
              "    </script>\n",
              "  </div>\n",
              "\n",
              "\n",
              "<div id=\"df-d9359931-929e-42af-a46e-a4181d53f480\">\n",
              "  <button class=\"colab-df-quickchart\" onclick=\"quickchart('df-d9359931-929e-42af-a46e-a4181d53f480')\"\n",
              "            title=\"Suggest charts\"\n",
              "            style=\"display:none;\">\n",
              "\n",
              "<svg xmlns=\"http://www.w3.org/2000/svg\" height=\"24px\"viewBox=\"0 0 24 24\"\n",
              "     width=\"24px\">\n",
              "    <g>\n",
              "        <path d=\"M19 3H5c-1.1 0-2 .9-2 2v14c0 1.1.9 2 2 2h14c1.1 0 2-.9 2-2V5c0-1.1-.9-2-2-2zM9 17H7v-7h2v7zm4 0h-2V7h2v10zm4 0h-2v-4h2v4z\"/>\n",
              "    </g>\n",
              "</svg>\n",
              "  </button>\n",
              "\n",
              "<style>\n",
              "  .colab-df-quickchart {\n",
              "      --bg-color: #E8F0FE;\n",
              "      --fill-color: #1967D2;\n",
              "      --hover-bg-color: #E2EBFA;\n",
              "      --hover-fill-color: #174EA6;\n",
              "      --disabled-fill-color: #AAA;\n",
              "      --disabled-bg-color: #DDD;\n",
              "  }\n",
              "\n",
              "  [theme=dark] .colab-df-quickchart {\n",
              "      --bg-color: #3B4455;\n",
              "      --fill-color: #D2E3FC;\n",
              "      --hover-bg-color: #434B5C;\n",
              "      --hover-fill-color: #FFFFFF;\n",
              "      --disabled-bg-color: #3B4455;\n",
              "      --disabled-fill-color: #666;\n",
              "  }\n",
              "\n",
              "  .colab-df-quickchart {\n",
              "    background-color: var(--bg-color);\n",
              "    border: none;\n",
              "    border-radius: 50%;\n",
              "    cursor: pointer;\n",
              "    display: none;\n",
              "    fill: var(--fill-color);\n",
              "    height: 32px;\n",
              "    padding: 0;\n",
              "    width: 32px;\n",
              "  }\n",
              "\n",
              "  .colab-df-quickchart:hover {\n",
              "    background-color: var(--hover-bg-color);\n",
              "    box-shadow: 0 1px 2px rgba(60, 64, 67, 0.3), 0 1px 3px 1px rgba(60, 64, 67, 0.15);\n",
              "    fill: var(--button-hover-fill-color);\n",
              "  }\n",
              "\n",
              "  .colab-df-quickchart-complete:disabled,\n",
              "  .colab-df-quickchart-complete:disabled:hover {\n",
              "    background-color: var(--disabled-bg-color);\n",
              "    fill: var(--disabled-fill-color);\n",
              "    box-shadow: none;\n",
              "  }\n",
              "\n",
              "  .colab-df-spinner {\n",
              "    border: 2px solid var(--fill-color);\n",
              "    border-color: transparent;\n",
              "    border-bottom-color: var(--fill-color);\n",
              "    animation:\n",
              "      spin 1s steps(1) infinite;\n",
              "  }\n",
              "\n",
              "  @keyframes spin {\n",
              "    0% {\n",
              "      border-color: transparent;\n",
              "      border-bottom-color: var(--fill-color);\n",
              "      border-left-color: var(--fill-color);\n",
              "    }\n",
              "    20% {\n",
              "      border-color: transparent;\n",
              "      border-left-color: var(--fill-color);\n",
              "      border-top-color: var(--fill-color);\n",
              "    }\n",
              "    30% {\n",
              "      border-color: transparent;\n",
              "      border-left-color: var(--fill-color);\n",
              "      border-top-color: var(--fill-color);\n",
              "      border-right-color: var(--fill-color);\n",
              "    }\n",
              "    40% {\n",
              "      border-color: transparent;\n",
              "      border-right-color: var(--fill-color);\n",
              "      border-top-color: var(--fill-color);\n",
              "    }\n",
              "    60% {\n",
              "      border-color: transparent;\n",
              "      border-right-color: var(--fill-color);\n",
              "    }\n",
              "    80% {\n",
              "      border-color: transparent;\n",
              "      border-right-color: var(--fill-color);\n",
              "      border-bottom-color: var(--fill-color);\n",
              "    }\n",
              "    90% {\n",
              "      border-color: transparent;\n",
              "      border-bottom-color: var(--fill-color);\n",
              "    }\n",
              "  }\n",
              "</style>\n",
              "\n",
              "  <script>\n",
              "    async function quickchart(key) {\n",
              "      const quickchartButtonEl =\n",
              "        document.querySelector('#' + key + ' button');\n",
              "      quickchartButtonEl.disabled = true;  // To prevent multiple clicks.\n",
              "      quickchartButtonEl.classList.add('colab-df-spinner');\n",
              "      try {\n",
              "        const charts = await google.colab.kernel.invokeFunction(\n",
              "            'suggestCharts', [key], {});\n",
              "      } catch (error) {\n",
              "        console.error('Error during call to suggestCharts:', error);\n",
              "      }\n",
              "      quickchartButtonEl.classList.remove('colab-df-spinner');\n",
              "      quickchartButtonEl.classList.add('colab-df-quickchart-complete');\n",
              "    }\n",
              "    (() => {\n",
              "      let quickchartButtonEl =\n",
              "        document.querySelector('#df-d9359931-929e-42af-a46e-a4181d53f480 button');\n",
              "      quickchartButtonEl.style.display =\n",
              "        google.colab.kernel.accessAllowed ? 'block' : 'none';\n",
              "    })();\n",
              "  </script>\n",
              "</div>\n",
              "\n",
              "  <div id=\"id_8e46f524-ba86-422e-8b34-a3c31b85b003\">\n",
              "    <style>\n",
              "      .colab-df-generate {\n",
              "        background-color: #E8F0FE;\n",
              "        border: none;\n",
              "        border-radius: 50%;\n",
              "        cursor: pointer;\n",
              "        display: none;\n",
              "        fill: #1967D2;\n",
              "        height: 32px;\n",
              "        padding: 0 0 0 0;\n",
              "        width: 32px;\n",
              "      }\n",
              "\n",
              "      .colab-df-generate:hover {\n",
              "        background-color: #E2EBFA;\n",
              "        box-shadow: 0px 1px 2px rgba(60, 64, 67, 0.3), 0px 1px 3px 1px rgba(60, 64, 67, 0.15);\n",
              "        fill: #174EA6;\n",
              "      }\n",
              "\n",
              "      [theme=dark] .colab-df-generate {\n",
              "        background-color: #3B4455;\n",
              "        fill: #D2E3FC;\n",
              "      }\n",
              "\n",
              "      [theme=dark] .colab-df-generate:hover {\n",
              "        background-color: #434B5C;\n",
              "        box-shadow: 0px 1px 3px 1px rgba(0, 0, 0, 0.15);\n",
              "        filter: drop-shadow(0px 1px 2px rgba(0, 0, 0, 0.3));\n",
              "        fill: #FFFFFF;\n",
              "      }\n",
              "    </style>\n",
              "    <button class=\"colab-df-generate\" onclick=\"generateWithVariable('df')\"\n",
              "            title=\"Generate code using this dataframe.\"\n",
              "            style=\"display:none;\">\n",
              "\n",
              "  <svg xmlns=\"http://www.w3.org/2000/svg\" height=\"24px\"viewBox=\"0 0 24 24\"\n",
              "       width=\"24px\">\n",
              "    <path d=\"M7,19H8.4L18.45,9,17,7.55,7,17.6ZM5,21V16.75L18.45,3.32a2,2,0,0,1,2.83,0l1.4,1.43a1.91,1.91,0,0,1,.58,1.4,1.91,1.91,0,0,1-.58,1.4L9.25,21ZM18.45,9,17,7.55Zm-12,3A5.31,5.31,0,0,0,4.9,8.1,5.31,5.31,0,0,0,1,6.5,5.31,5.31,0,0,0,4.9,4.9,5.31,5.31,0,0,0,6.5,1,5.31,5.31,0,0,0,8.1,4.9,5.31,5.31,0,0,0,12,6.5,5.46,5.46,0,0,0,6.5,12Z\"/>\n",
              "  </svg>\n",
              "    </button>\n",
              "    <script>\n",
              "      (() => {\n",
              "      const buttonEl =\n",
              "        document.querySelector('#id_8e46f524-ba86-422e-8b34-a3c31b85b003 button.colab-df-generate');\n",
              "      buttonEl.style.display =\n",
              "        google.colab.kernel.accessAllowed ? 'block' : 'none';\n",
              "\n",
              "      buttonEl.onclick = () => {\n",
              "        google.colab.notebook.generateWithVariable('df');\n",
              "      }\n",
              "      })();\n",
              "    </script>\n",
              "  </div>\n",
              "\n",
              "    </div>\n",
              "  </div>\n"
            ],
            "application/vnd.google.colaboratory.intrinsic+json": {
              "type": "dataframe",
              "variable_name": "df",
              "summary": "{\n  \"name\": \"df\",\n  \"rows\": 1000,\n  \"fields\": [\n    {\n      \"column\": \"Size\",\n      \"properties\": {\n        \"dtype\": \"number\",\n        \"std\": 1.0374096925406744,\n        \"min\": -3.1767038131960006,\n        \"max\": 3.926237706436327,\n        \"num_unique_values\": 800,\n        \"samples\": [\n          -0.7557915001583629,\n          1.653617268492285,\n          -0.2500465145989528\n        ],\n        \"semantic_type\": \"\",\n        \"description\": \"\"\n      }\n    },\n    {\n      \"column\": \"Bedrooms\",\n      \"properties\": {\n        \"dtype\": \"number\",\n        \"std\": 0.9663440917059628,\n        \"min\": -2.6357477390168778,\n        \"max\": 3.098299434071257,\n        \"num_unique_values\": 900,\n        \"samples\": [\n          0.1493634822711889,\n          -0.5258796758952039,\n          0.4037300903366094\n        ],\n        \"semantic_type\": \"\",\n        \"description\": \"\"\n      }\n    },\n    {\n      \"column\": \"Bathrooms\",\n      \"properties\": {\n        \"dtype\": \"number\",\n        \"std\": 0.9939313672380014,\n        \"min\": -3.0195121558208253,\n        \"max\": 3.2430929695947333,\n        \"num_unique_values\": 1000,\n        \"samples\": [\n          -0.1698523576777306,\n          -1.10486279306252,\n          0.7472936051232618\n        ],\n        \"semantic_type\": \"\",\n        \"description\": \"\"\n      }\n    },\n    {\n      \"column\": \"Location\",\n      \"properties\": {\n        \"dtype\": \"number\",\n        \"std\": 0.997316025211169,\n        \"min\": -3.241267340069073,\n        \"max\": 3.152056734512085,\n        \"num_unique_values\": 1000,\n        \"samples\": [\n          -0.1833007095261973,\n          1.2179591523055584,\n          -0.0209015939641481\n        ],\n        \"semantic_type\": \"\",\n        \"description\": \"\"\n      }\n    },\n    {\n      \"column\": \"YearBuilt\",\n      \"properties\": {\n        \"dtype\": \"number\",\n        \"std\": 1.0030249828627664,\n        \"min\": -2.9911359709007237,\n        \"max\": 3.193107567844861,\n        \"num_unique_values\": 1000,\n        \"samples\": [\n          -0.5001978170959958,\n          0.8333339117803071,\n          -0.5601810401969696\n        ],\n        \"semantic_type\": \"\",\n        \"description\": \"\"\n      }\n    },\n    {\n      \"column\": \"RoofType\",\n      \"properties\": {\n        \"dtype\": \"number\",\n        \"std\": 0.9915217850109114,\n        \"min\": -2.8485426206300755,\n        \"max\": 3.852731490654721,\n        \"num_unique_values\": 1000,\n        \"samples\": [\n          -0.0197943445207079,\n          -0.513196364513396,\n          0.117327383308782\n        ],\n        \"semantic_type\": \"\",\n        \"description\": \"\"\n      }\n    },\n    {\n      \"column\": \"Price\",\n      \"properties\": {\n        \"dtype\": \"number\",\n        \"std\": 104.24972504251699,\n        \"min\": -378.48252819563737,\n        \"max\": 352.3827348949101,\n        \"num_unique_values\": 1000,\n        \"samples\": [\n          -15.906250711454774,\n          78.44138640198662,\n          -6.69641927444509\n        ],\n        \"semantic_type\": \"\",\n        \"description\": \"\"\n      }\n    }\n  ]\n}"
            }
          },
          "metadata": {},
          "execution_count": 32
        }
      ]
    },
    {
      "cell_type": "markdown",
      "source": [
        "Let's explore the dataset to better know what we're dealing with"
      ],
      "metadata": {
        "id": "iEqIDMqynhFj"
      }
    },
    {
      "cell_type": "code",
      "source": [
        "# Question 1:\n",
        "# Get the shape of the dataset\n",
        "print('shape of the dataset:',df.shape)\n",
        "\n",
        "# Check the data types of the columns\n",
        "print('\\nData types of the columns:')\n",
        "print(df.dtypes)\n"
      ],
      "metadata": {
        "id": "B7_mD1cxnga1",
        "outputId": "bfa22342-7505-43c4-cb3a-a0a23bc84db4",
        "colab": {
          "base_uri": "https://localhost:8080/"
        }
      },
      "execution_count": 33,
      "outputs": [
        {
          "output_type": "stream",
          "name": "stdout",
          "text": [
            "shape of the dataset: (1000, 7)\n",
            "\n",
            "Data types of the columns:\n",
            "Size         float64\n",
            "Bedrooms     float64\n",
            "Bathrooms    float64\n",
            "Location     float64\n",
            "YearBuilt    float64\n",
            "RoofType     float64\n",
            "Price        float64\n",
            "dtype: object\n"
          ]
        }
      ]
    },
    {
      "cell_type": "markdown",
      "source": [
        "## Deeper Exploration"
      ],
      "metadata": {
        "id": "5_Fu1UJPnyTs"
      }
    },
    {
      "cell_type": "code",
      "source": [
        "import matplotlib.pyplot as plt\n",
        "import seaborn as sns\n",
        "\n",
        "# Question 2:\n",
        "# Check for missing values\n",
        "print('Missing values:\\n',df.isnull().sum())\n",
        "\n",
        "# Drop rows with NaN values\n",
        "df=df.dropna()\n",
        "\n",
        "\n",
        "# Check for missing values again\n",
        "print(\"Missing values:\\n\", df.isnull().sum())"
      ],
      "metadata": {
        "id": "6jOhgLu3n4tH",
        "outputId": "b981ca0a-c434-4797-9d57-fb1bec4d8585",
        "colab": {
          "base_uri": "https://localhost:8080/"
        }
      },
      "execution_count": 34,
      "outputs": [
        {
          "output_type": "stream",
          "name": "stdout",
          "text": [
            "Missing values:\n",
            " Size         200\n",
            "Bedrooms     100\n",
            "Bathrooms      0\n",
            "Location       0\n",
            "YearBuilt      0\n",
            "RoofType       0\n",
            "Price          0\n",
            "dtype: int64\n",
            "Missing values:\n",
            " Size         0\n",
            "Bedrooms     0\n",
            "Bathrooms    0\n",
            "Location     0\n",
            "YearBuilt    0\n",
            "RoofType     0\n",
            "Price        0\n",
            "dtype: int64\n"
          ]
        }
      ]
    },
    {
      "cell_type": "markdown",
      "source": [
        "This function sns.pairplot() creates scatter plots for each numerical feature (Size, Bedrooms, Bathrooms, Location, YearBuilt) against the target variable (Price)."
      ],
      "metadata": {
        "id": "AzHNfS31oqDh"
      }
    },
    {
      "cell_type": "code",
      "source": [
        "import matplotlib.pyplot as plt\n",
        "import seaborn as sns\n",
        "# Question 3:\n",
        "# Create plots to better understand the data\n",
        "sns.pairplot(df,x_vars=['Size','Bedrooms','Location','YearBuilt'], y_vars='Price',kind='scatter')\n",
        "plt.show()"
      ],
      "metadata": {
        "id": "yFDdvVRhogX4",
        "outputId": "6d44e9b8-5b77-4ff9-9650-2d71e9325964",
        "colab": {
          "base_uri": "https://localhost:8080/",
          "height": 268
        }
      },
      "execution_count": 35,
      "outputs": [
        {
          "output_type": "display_data",
          "data": {
            "text/plain": [
              "<Figure size 1000x250 with 4 Axes>"
            ],
            "image/png": "[encoded data removed]"
          },
          "metadata": {}
        }
      ]
    },
    {
      "cell_type": "markdown",
      "source": [
        "## Predictive Modeling using Linear Regression"
      ],
      "metadata": {
        "id": "Lr9boItso52E"
      }
    },
    {
      "cell_type": "markdown",
      "source": [
        "- Split the Data\n",
        "- Train a Linear Regressor\n",
        "- Evaluate it on the test set using any metric of your choice"
      ],
      "metadata": {
        "id": "vAxt2xBXo_Gf"
      }
    },
    {
      "cell_type": "code",
      "source": [
        "from sklearn.model_selection import train_test_split\n",
        "from sklearn.linear_model import LinearRegression\n",
        "# Question 4:\n",
        "# Split the data into features (X) and target variable (y)\n",
        "x=df.drop('Price',axis=1)\n",
        "y=df['Price']\n",
        "\n",
        "# Split the data into training and testing sets\n",
        "x_train,x_test,y_train,y_test= train_test_split(x,y,test_size=0.2, random_state=42)\n",
        "\n",
        "# Fit a linear regression model\n",
        "regressor = LinearRegression()\n",
        "regressor.fit(x_train,y_train)\n"
      ],
      "metadata": {
        "id": "0omN-q4XpNwN",
        "outputId": "388ae658-9d9f-4f69-c6cb-3a9738fbe516",
        "colab": {
          "base_uri": "https://localhost:8080/",
          "height": 74
        }
      },
      "execution_count": 36,
      "outputs": [
        {
          "output_type": "execute_result",
          "data": {
            "text/plain": [
              "LinearRegression()"
            ],
            "text/html": [
              "<style>#sk-container-id-2 {color: black;background-color: white;}#sk-container-id-2 pre{padding: 0;}#sk-container-id-2 div.sk-toggleable {background-color: white;}#sk-container-id-2 label.sk-toggleable__label {cursor: pointer;display: block;width: 100%;margin-bottom: 0;padding: 0.3em;box-sizing: border-box;text-align: center;}#sk-container-id-2 label.sk-toggleable__label-arrow:before {content: \"▸\";float: left;margin-right: 0.25em;color: #696969;}#sk-container-id-2 label.sk-toggleable__label-arrow:hover:before {color: black;}#sk-container-id-2 div.sk-estimator:hover label.sk-toggleable__label-arrow:before {color: black;}#sk-container-id-2 div.sk-toggleable__content {max-height: 0;max-width: 0;overflow: hidden;text-align: left;background-color: #f0f8ff;}#sk-container-id-2 div.sk-toggleable__content pre {margin: 0.2em;color: black;border-radius: 0.25em;background-color: #f0f8ff;}#sk-container-id-2 input.sk-toggleable__control:checked~div.sk-toggleable__content {max-height: 200px;max-width: 100%;overflow: auto;}#sk-container-id-2 input.sk-toggleable__control:checked~label.sk-toggleable__label-arrow:before {content: \"▾\";}#sk-container-id-2 div.sk-estimator input.sk-toggleable__control:checked~label.sk-toggleable__label {background-color: #d4ebff;}#sk-container-id-2 div.sk-label input.sk-toggleable__control:checked~label.sk-toggleable__label {background-color: #d4ebff;}#sk-container-id-2 input.sk-hidden--visually {border: 0;clip: rect(1px 1px 1px 1px);clip: rect(1px, 1px, 1px, 1px);height: 1px;margin: -1px;overflow: hidden;padding: 0;position: absolute;width: 1px;}#sk-container-id-2 div.sk-estimator {font-family: monospace;background-color: #f0f8ff;border: 1px dotted black;border-radius: 0.25em;box-sizing: border-box;margin-bottom: 0.5em;}#sk-container-id-2 div.sk-estimator:hover {background-color: #d4ebff;}#sk-container-id-2 div.sk-parallel-item::after {content: \"\";width: 100%;border-bottom: 1px solid gray;flex-grow: 1;}#sk-container-id-2 div.sk-label:hover label.sk-toggleable__label {background-color: #d4ebff;}#sk-container-id-2 div.sk-serial::before {content: \"\";position: absolute;border-left: 1px solid gray;box-sizing: border-box;top: 0;bottom: 0;left: 50%;z-index: 0;}#sk-container-id-2 div.sk-serial {display: flex;flex-direction: column;align-items: center;background-color: white;padding-right: 0.2em;padding-left: 0.2em;position: relative;}#sk-container-id-2 div.sk-item {position: relative;z-index: 1;}#sk-container-id-2 div.sk-parallel {display: flex;align-items: stretch;justify-content: center;background-color: white;position: relative;}#sk-container-id-2 div.sk-item::before, #sk-container-id-2 div.sk-parallel-item::before {content: \"\";position: absolute;border-left: 1px solid gray;box-sizing: border-box;top: 0;bottom: 0;left: 50%;z-index: -1;}#sk-container-id-2 div.sk-parallel-item {display: flex;flex-direction: column;z-index: 1;position: relative;background-color: white;}#sk-container-id-2 div.sk-parallel-item:first-child::after {align-self: flex-end;width: 50%;}#sk-container-id-2 div.sk-parallel-item:last-child::after {align-self: flex-start;width: 50%;}#sk-container-id-2 div.sk-parallel-item:only-child::after {width: 0;}#sk-container-id-2 div.sk-dashed-wrapped {border: 1px dashed gray;margin: 0 0.4em 0.5em 0.4em;box-sizing: border-box;padding-bottom: 0.4em;background-color: white;}#sk-container-id-2 div.sk-label label {font-family: monospace;font-weight: bold;display: inline-block;line-height: 1.2em;}#sk-container-id-2 div.sk-label-container {text-align: center;}#sk-container-id-2 div.sk-container {/* jupyter's `normalize.less` sets `[hidden] { display: none; }` but bootstrap.min.css set `[hidden] { display: none !important; }` so we also need the `!important` here to be able to override the default hidden behavior on the sphinx rendered scikit-learn.org. See: https://github.com/scikit-learn/scikit-learn/issues/21755 */display: inline-block !important;position: relative;}#sk-container-id-2 div.sk-text-repr-fallback {display: none;}</style><div id=\"sk-container-id-2\" class=\"sk-top-container\"><div class=\"sk-text-repr-fallback\"><pre>LinearRegression()</pre><b>In a Jupyter environment, please rerun this cell to show the HTML representation or trust the notebook. <br />On GitHub, the HTML representation is unable to render, please try loading this page with nbviewer.org.</b></div><div class=\"sk-container\" hidden><div class=\"sk-item\"><div class=\"sk-estimator sk-toggleable\"><input class=\"sk-toggleable__control sk-hidden--visually\" id=\"sk-estimator-id-2\" type=\"checkbox\" checked><label for=\"sk-estimator-id-2\" class=\"sk-toggleable__label sk-toggleable__label-arrow\">LinearRegression</label><div class=\"sk-toggleable__content\"><pre>LinearRegression()</pre></div></div></div></div></div>"
            ]
          },
          "metadata": {},
          "execution_count": 36
        }
      ]
    },
    {
      "cell_type": "code",
      "source": [
        "from sklearn.metrics import mean_squared_error, r2_score\n",
        "\n",
        "# Question 5:\n",
        "# Evaluate the model on the test set\n",
        "y_pred=regressor.predict(x_test)\n",
        "\n",
        "# Calculate evaluation metrics\n",
        "mse=mean_squared_error(y_test,y_pred)\n",
        "r2=r2_score(y_test,y_pred)\n",
        "\n",
        "# Print the evaluation metrics\n",
        "print(\"mean squared error(mse):\",mse)\n",
        "print(\"r-squared(r2)\",r2)"
      ],
      "metadata": {
        "id": "27CwX0iIpVMF",
        "outputId": "fa2dc814-d895-4851-d17e-252a9dc7b90c",
        "colab": {
          "base_uri": "https://localhost:8080/"
        }
      },
      "execution_count": 37,
      "outputs": [
        {
          "output_type": "stream",
          "name": "stdout",
          "text": [
            "mean squared error(mse): 0.24566225870757094\n",
            "r-squared(r2) 0.9999788915641026\n"
          ]
        }
      ]
    },
    {
      "cell_type": "markdown",
      "source": [
        "## Predictive Modeling using Logistic Regression"
      ],
      "metadata": {
        "id": "0Ds0ruILzSxP"
      }
    },
    {
      "cell_type": "markdown",
      "source": [
        "To utilize the same dataset for logistic regression, you need to transform the problem into a classification task. For example, you can introduce a threshold and classify the houses as \"expensive\" or \"affordable\" based on whether their prices are above or below the threshold. You can choose the threshold based on your dataset or specific requirements.\n",
        "\n",
        "Convert the target variable into a binary variable (0 or 1) representing the classes (e.g., 0 for affordable, 1 for expensive). Then, train a logistic regression model using the same features to classify houses as either affordable or expensive based on the chosen threshold."
      ],
      "metadata": {
        "id": "e11b3mySzi7Q"
      }
    },
    {
      "cell_type": "code",
      "source": [
        "\n",
        "from sklearn.linear_model import LogisticRegression\n",
        "from sklearn.metrics import accuracy_score, precision_score, recall_score, f1_score\n",
        "\n",
        "# Question 6:\n",
        "\n",
        "# Set the median as a threshold to classify houses as \"expensive\" or \"affordable\":\n",
        "\n",
        "threshold = df['Price'].median() #example threshold: median price\n",
        "\n",
        "# Transform the problem into a classification task\n",
        "df[\"Class\"] = df['Price'].apply(lambda x: 1 if x >= threshold else 0)\n",
        "df = df.drop('Price', axis=1)\n",
        "\n",
        "# Split the data into features (X) and target variable (y)\n",
        "x= df.drop(\"Class\", axis=1)\n",
        "y= df[\"Class\"]\n",
        "\n",
        "\n",
        "# Split the data into training and testing sets\n",
        "x_train, x_test, y_train, y_test = train_test_split(x, y, test_size=0.2, random_state=42)\n",
        "\n",
        "# Fit a logistic regression model\n",
        "classifier = LogisticRegression()\n",
        "classifier.fit(x_train,y_train)\n",
        "# Make predictions on the test set\n",
        "y_pred = classifier.predict(x_test)\n",
        "\n",
        "# Calculate evaluation metrics\n",
        "accuracy=accuracy_score(y_test,y_pred)\n",
        "precision=precision_score(y_test,y_pred)\n",
        "recall=recall_score(y_test,y_pred)\n",
        "f1=f1_score(y_test,y_pred)\n",
        "# Print the evaluation metrics\n",
        "print(\"Accuracy:\", accuracy)\n",
        "print(\"Precision:\", precision)\n",
        "print(\"Recall:\", recall)\n",
        "print(\"F1 score:\", f1)\n"
      ],
      "metadata": {
        "id": "niQ_7ItEzZ9i",
        "outputId": "2f8edf9f-3a70-4fd1-ce76-c0053599afb1",
        "colab": {
          "base_uri": "https://localhost:8080/"
        }
      },
      "execution_count": 42,
      "outputs": [
        {
          "output_type": "stream",
          "name": "stdout",
          "text": [
            "Accuracy: 0.9861111111111112\n",
            "Precision: 0.9864864864864865\n",
            "Recall: 0.9864864864864865\n",
            "F1 score: 0.9864864864864865\n"
          ]
        },
        {
          "output_type": "stream",
          "name": "stderr",
          "text": [
            "<ipython-input-42-17dd5e4875d0>:11: SettingWithCopyWarning: \n",
            "A value is trying to be set on a copy of a slice from a DataFrame.\n",
            "Try using .loc[row_indexer,col_indexer] = value instead\n",
            "\n",
            "See the caveats in the documentation: https://pandas.pydata.org/pandas-docs/stable/user_guide/indexing.html#returning-a-view-versus-a-copy\n",
            "  df[\"Class\"] = df['Price'].apply(lambda x: 1 if x >= threshold else 0)\n"
          ]
        }
      ]
    }
  ]
}